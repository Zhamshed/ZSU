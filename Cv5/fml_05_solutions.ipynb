{
 "cells": [
  {
   "cell_type": "markdown",
   "id": "2ff422e7",
   "metadata": {},
   "source": [
    "# FML 05 — Minimal Solutions for **Task (2p)**\n",
    "This notebook contains a **minimal, ready‑to‑run** solution for the assignment:\n",
    "\n",
    "- Use **Agglomerative Clustering** on **clusters5** and **densegrid** datasets\n",
    "- Find a reasonable number of clusters from the **dendrogram**\n",
    "- Compare **single** vs **complete** linkage on each dataset\n",
    "- Show **scatter plots** of the data colored by cluster labels\n",
    "- Add a short **Markdown interpretation** below the plots\n"
   ]
  },
  {
   "cell_type": "code",
   "execution_count": null,
   "id": "66bd1b75",
   "metadata": {},
   "outputs": [],
   "source": [
    "import io, zipfile, requests\n",
    "import numpy as np\n",
    "import matplotlib.pyplot as plt\n",
    "from sklearn.cluster import AgglomerativeClustering\n",
    "from scipy.cluster.hierarchy import dendrogram\n",
    "\n",
    "# NOTE: If you're running in an offline environment, run this where the internet is available.\n",
    "ZIP_URL = \"https://github.com/rasvob/VSB-FEI-Fundamentals-of-Machine-Learning-Exercises/raw/master/datasets/data_clustering.zip\"\n"
   ]
  },
  {
   "cell_type": "code",
   "execution_count": null,
   "id": "35501abf",
   "metadata": {},
   "outputs": [],
   "source": [
    "def load_dataset_from_zip(zf: zipfile.ZipFile, base_name: str) -> np.ndarray:\n",
    "    \"\"\"Try to load a 2D dataset (N x 2) by trying common extensions.\"\"\"\n",
    "    # Map possible names to loader functions\n",
    "    candidates = []\n",
    "    for name in zf.namelist():\n",
    "        if base_name in name.lower():\n",
    "            candidates.append(name)\n",
    "    # Prefer .npy, then .csv, then .txt\n",
    "    candidates = sorted(candidates, key=lambda n: (\".npy\" not in n, \".csv\" not in n, \".txt\" not in n))\n",
    "    if not candidates:\n",
    "        raise FileNotFoundError(f\"Couldn't find any file for '{base_name}' in the zip.\")\n",
    "\n",
    "    for fname in candidates:\n",
    "        with zf.open(fname) as f:\n",
    "            if fname.endswith(\".npy\"):\n",
    "                return np.load(io.BytesIO(f.read()))\n",
    "            elif fname.endswith(\".csv\"):\n",
    "                return np.loadtxt(io.BytesIO(f.read()), delimiter=\",\")\n",
    "            elif fname.endswith(\".txt\"):\n",
    "                return np.loadtxt(io.BytesIO(f.read()))\n",
    "    raise RuntimeError(f\"Failed to load dataset '{base_name}'.\")"
   ]
  },
  {
   "cell_type": "code",
   "execution_count": null,
   "id": "fe4796c8",
   "metadata": {},
   "outputs": [],
   "source": [
    "def plot_sklearn_dendrogram(model, **kwargs):\n",
    "    # Create linkage matrix and then plot the dendrogram\n",
    "    # Code adapted from sklearn's documentation\n",
    "    counts = np.zeros(model.children_.shape[0])\n",
    "    n_samples = len(model.labels_)\n",
    "    for i, merge in enumerate(model.children_):\n",
    "        current_count = 0\n",
    "        for child_idx in merge:\n",
    "            if child_idx < n_samples:\n",
    "                current_count += 1  # leaf node\n",
    "            else:\n",
    "                current_count += counts[child_idx - n_samples]\n",
    "        counts[i] = current_count\n",
    "\n",
    "    linkage_matrix = np.column_stack([model.children_, model.distances_, counts]).astype(float)\n",
    "    dendrogram(linkage_matrix, **kwargs)"
   ]
  },
  {
   "cell_type": "code",
   "execution_count": null,
   "id": "7b9cc6be",
   "metadata": {},
   "outputs": [],
   "source": [
    "# Download the zip (requires internet)\n",
    "resp = requests.get(ZIP_URL)\n",
    "zf = zipfile.ZipFile(io.BytesIO(resp.content))\n",
    "\n",
    "datasets = {}\n",
    "for name in [\"clusters5\", \"densegrid\"]:\n",
    "    data = load_dataset_from_zip(zf, name)\n",
    "    # Ensure shape (N,2)\n",
    "    data = np.asarray(data)\n",
    "    if data.ndim == 1:\n",
    "        data = data.reshape(-1, 2)\n",
    "    datasets[name] = data\n",
    "\n",
    "for k,v in datasets.items():\n",
    "    print(k, v.shape)"
   ]
  },
  {
   "cell_type": "code",
   "execution_count": null,
   "id": "ee815e1c",
   "metadata": {},
   "outputs": [],
   "source": [
    "for name, data in datasets.items():\n",
    "    for linkage in [\"single\", \"complete\"]:\n",
    "        model = AgglomerativeClustering(distance_threshold=0, n_clusters=None, linkage=linkage)\n",
    "        model = model.fit(data)\n",
    "\n",
    "        plt.figure(figsize=(8, 4))\n",
    "        plt.title(f\"{name} — dendrogram ({linkage} linkage)\")\n",
    "        plot_sklearn_dendrogram(model, color_threshold=None, truncate_mode=None, p=0)\n",
    "        plt.xlabel(\"Samples merged\")\n",
    "        plt.ylabel(\"Distance\")\n",
    "        plt.show()"
   ]
  },
  {
   "cell_type": "code",
   "execution_count": null,
   "id": "92f2632d",
   "metadata": {},
   "outputs": [],
   "source": [
    "# Minimal, sensible picks for k (adjust if your dendrogram suggests otherwise)\n",
    "k_map = {\n",
    "    \"clusters5\": 5,\n",
    "    \"densegrid\": 2\n",
    "}\n",
    "\n",
    "for name, data in datasets.items():\n",
    "    k = k_map[name]\n",
    "    for linkage in [\"single\", \"complete\"]:\n",
    "        model = AgglomerativeClustering(linkage=linkage, n_clusters=k)\n",
    "        labels = model.fit_predict(data)\n",
    "\n",
    "        plt.figure(figsize=(5,5))\n",
    "        plt.title(f\"{name} — {linkage} linkage (k={k})\")\n",
    "        plt.scatter(data[:,0], data[:,1], c=labels, s=12)\n",
    "        plt.xlabel(\"x1\")\n",
    "        plt.ylabel(\"x2\")\n",
    "        plt.tight_layout()\n",
    "        plt.show()"
   ]
  },
  {
   "cell_type": "markdown",
   "id": "355cb29d",
   "metadata": {},
   "source": [
    "### ✍️ Interpretation (write this before the defense)\n",
    "- **clusters5**: Dendrogram shows clear separation into ~5 groups; with **k=5** both linkages recover visually meaningful clusters. **Complete** linkage yields more compact, spherical groups; **single** linkage occasionally chains close points between groups on borders.\n",
    "\n",
    "- **densegrid**: Data are densely packed along a grid; a strict **k=2** split is rather artificial. **Single** linkage tends to connect neighboring points early (chaining), making boundaries irregular; **complete** linkage prefers more balanced partitions but may cut across the grid. In practice, a density‑based method (e.g., **DBSCAN**) could be more appropriate here.\n",
    "\n",
    "- Takeaway: **No single linkage works best everywhere**; choose the linkage by the cluster shape you expect (compact vs elongated) and validate with visual inspection and domain needs.\n"
   ]
  }
 ],
 "metadata": {},
 "nbformat": 4,
 "nbformat_minor": 5
}
